{
 "cells": [
  {
   "cell_type": "markdown",
   "metadata": {},
   "source": [
    "# <center> Crash tutorial on data manipulation with Python"
   ]
  },
  {
   "cell_type": "markdown",
   "metadata": {},
   "source": [
    "#### Imports and settings"
   ]
  },
  {
   "cell_type": "code",
   "execution_count": 13,
   "metadata": {
    "collapsed": true
   },
   "outputs": [],
   "source": [
    "import numpy as np\n",
    "import pandas as pd\n",
    "from matplotlib import pyplot as plt\n",
    "\n",
    "%matplotlib inline"
   ]
  },
  {
   "cell_type": "markdown",
   "metadata": {},
   "source": [
    "## Numpy"
   ]
  },
  {
   "cell_type": "markdown",
   "metadata": {},
   "source": [
    "#### Vector"
   ]
  },
  {
   "cell_type": "code",
   "execution_count": 7,
   "metadata": {
    "collapsed": false
   },
   "outputs": [
    {
     "name": "stdout",
     "output_type": "stream",
     "text": [
      "* Vector, dimension and shape\n",
      "    Dimension 1 and shape (5,): [1 2 3 4 5]\n",
      "    Slice of vector:  [3 4]\n",
      "    Slice of vector with step:  [2 4]\n"
     ]
    }
   ],
   "source": [
    "print '* Vector, dimension and shape'\n",
    "vec = np.array([1, 2, 3, 4, 5])\n",
    "print '    Dimension %d and shape %s: %s' %(vec.ndim, vec.shape, vec)\n",
    "print '    Slice of vector: ', vec[2:4]\n",
    "print '    Slice of vector with step: ', vec[1:4:2]"
   ]
  },
  {
   "cell_type": "markdown",
   "metadata": {},
   "source": [
    "#### Matrix"
   ]
  },
  {
   "cell_type": "code",
   "execution_count": 8,
   "metadata": {
    "collapsed": false
   },
   "outputs": [
    {
     "name": "stdout",
     "output_type": "stream",
     "text": [
      "* Matrix, dimension, shape, size, element, slice\n",
      "    This is an ndarray of dimension 2 and shape (3, 4):\n",
      " [[1 2 3 0]\n",
      " [2 3 4 1]\n",
      " [4 0 1 0]]\n",
      "    It contains 12 elements (size)\n",
      "    Its element on row 2, col 3 is 4\n",
      "    A slice of it is (second column) [2 3 0]\n"
     ]
    }
   ],
   "source": [
    "print '* Matrix, dimension, shape, size, element, slice'\n",
    "mat = np.array([[1,2,3, 0], [2,3,4, 1], [4, 0, 1, 0]])\n",
    "print '    This is an ndarray of dimension %d and shape %s:\\n %s' %(mat.ndim, mat.shape, mat)\n",
    "print '    It contains %d elements (size)' %mat.size\n",
    "print '    Its element on row 2, col 3 is %d' %mat[1,2]\n",
    "print '    A slice of it is (second column)', mat[:,1]"
   ]
  },
  {
   "cell_type": "markdown",
   "metadata": {},
   "source": [
    "#### Operations"
   ]
  },
  {
   "cell_type": "code",
   "execution_count": 9,
   "metadata": {
    "collapsed": false
   },
   "outputs": [
    {
     "name": "stdout",
     "output_type": "stream",
     "text": [
      "    vector v is [1 2 3]\n",
      "    Matrix A is\n",
      "[[1 2 0]\n",
      " [2 3 4]]\n",
      "    Matrix B is\n",
      "[[0 1]\n",
      " [2 0]\n",
      " [1 1]]\n",
      "    Matrix C is\n",
      "[[3 5 1]\n",
      " [0 0 2]]\n",
      "\n",
      "\n",
      "* Matrix and transpose\n",
      "    Transpose of A is\n",
      "[[1 2]\n",
      " [2 3]\n",
      " [0 4]]\n",
      "\n",
      "\n",
      "* Properties of matrix elements\n",
      "    Sum, mean, std of elements:  12 2.0 1.29099444874\n",
      "    Sum of A on axis 0:  [3 5 4]\n",
      "    Sum of A on axis 1:  [3 9]\n",
      "\n",
      "\n",
      "* Matrix product\n",
      "    Product A * B is\n",
      "[[ 4  1]\n",
      " [10  6]]\n",
      "\n",
      "\n",
      "* Multiplication and sum with scalar (v and A)\n",
      "    2 * v:  [2 4 6]\n",
      "    2 * A:  [[2 4 0]\n",
      " [4 6 8]]\n",
      "    v + 1:  [2 3 4]\n",
      "    A + 1:  [[2 3 1]\n",
      " [3 4 5]]\n",
      "\n",
      "\n",
      "* Arithmetics with matrices\n",
      "    Summing A and C\n",
      "[[4 7 1]\n",
      " [2 3 6]]\n",
      "    Subtracting C from A\n",
      "[[-2 -3 -1]\n",
      " [ 2  3  2]]\n",
      "\n",
      "\n",
      "* Sorting matrix\n",
      "    Sorting A:  [[0 1 2]\n",
      " [2 3 4]]\n",
      "    Sorting A on axis 0 [[1 2 0]\n",
      " [2 3 4]]\n",
      "    Sorting A on axis 1 [[0 1 2]\n",
      " [2 3 4]]\n",
      "\n",
      "\n",
      "* Randomly shuffling array:\n",
      "[1 2 3]\n"
     ]
    }
   ],
   "source": [
    "v = np.array([1, 2, 3])\n",
    "A = np.array([[1,2, 0], [2,3,4]])\n",
    "B = np.array([[0, 1], [2, 0], [1, 1]])\n",
    "C = np.array([[3, 5, 1], [0, 0, 2]])\n",
    "print '    vector v is', v\n",
    "print '    Matrix A is'\n",
    "print A\n",
    "print '    Matrix B is'\n",
    "print B\n",
    "print '    Matrix C is'\n",
    "print C\n",
    "print '\\n'\n",
    "\n",
    "print '* Matrix and transpose'\n",
    "print '    Transpose of A is\\n', A.T\n",
    "print '\\n'\n",
    "\n",
    "print '* Properties of matrix elements'\n",
    "print '    Sum, mean, std of elements: ', A.sum(), A.mean(), A.std()\n",
    "print '    Sum of A on axis 0: ', A.sum(axis=0)\n",
    "print '    Sum of A on axis 1: ', A.sum(axis=1)\n",
    "print '\\n'\n",
    "\n",
    "print '* Matrix product'\n",
    "print '    Product A * B is'\n",
    "print np.dot(A, B)\n",
    "print '\\n'\n",
    "\n",
    "print '* Multiplication and sum with scalar (v and A)'\n",
    "print '    2 * v: ', 2 * v\n",
    "print '    2 * A: ', 2 * A\n",
    "print '    v + 1: ', v + 1\n",
    "print '    A + 1: ', A + 1\n",
    "print '\\n'\n",
    "\n",
    "print '* Arithmetics with matrices'\n",
    "print '    Summing A and C'\n",
    "print A + C\n",
    "print '    Subtracting C from A'\n",
    "print A - C\n",
    "print '\\n'\n",
    "\n",
    "print '* Sorting matrix'\n",
    "A_copy = A.copy()\n",
    "A.sort()\n",
    "print '    Sorting A: ', A\n",
    "A = A_copy.copy()\n",
    "A.sort(axis=0)\n",
    "print '    Sorting A on axis 0', A\n",
    "A = A_copy.copy()\n",
    "A.sort(axis=1)\n",
    "print '    Sorting A on axis 1', A\n",
    "print '\\n'\n",
    "\n",
    "print '* Randomly shuffling array:'\n",
    "np.random.shuffle(v)                 # shuffles and returns None\n",
    "print v"
   ]
  },
  {
   "cell_type": "markdown",
   "metadata": {},
   "source": [
    "#### Linear Algebra"
   ]
  },
  {
   "cell_type": "code",
   "execution_count": 10,
   "metadata": {
    "collapsed": false
   },
   "outputs": [
    {
     "name": "stdout",
     "output_type": "stream",
     "text": [
      "* Determinant, trace, inverse, norm\n",
      "Determinant of matrix A:  1.0\n",
      "Trace of matrix A: 3\n",
      "Inverse of matrix A:  [[ 1.  4. -3.]\n",
      " [ 0.  1.  0.]\n",
      " [-0. -2.  1.]]\n",
      "Norm of vector v and of matrix A: 2.64575131106 4.472135955\n",
      "\n",
      "\n",
      "* Eigenvalues/Eigenvectors\n",
      "Eigenvalues and eigenvectors of matrix A: (array([ 1.,  1.,  1.]), array([[  1.00000000e+00,  -1.00000000e+00,   1.00000000e+00],\n",
      "       [  0.00000000e+00,   0.00000000e+00,   8.21730110e-33],\n",
      "       [  0.00000000e+00,   7.40148683e-17,  -7.40148683e-17]]))\n",
      "\n",
      "\n",
      "* Single Value Decomposition\n",
      "SVD of matrix A: (array([[ 0.86349489,  0.47752005, -0.16233045],\n",
      "       [ 0.15573818, -0.55857386, -0.81470293],\n",
      "       [ 0.47971053, -0.67821077,  0.55669378]]), array([ 4.27194722,  1.3109472 ,  0.17856195]), array([[ 0.20213145,  0.66530528,  0.71868753],\n",
      "       [ 0.36425575, -0.73226084,  0.57542317],\n",
      "       [-0.9090988 , -0.14547494,  0.39035422]]))\n",
      "\n",
      "\n",
      "* Linear systems\n",
      "Solving linear system Ax = b: [ 0.4 -0.2]\n",
      "Least Square solution for Ax = b:  (array([ 0.4, -0.2]), array([], dtype=float64), 2, array([ 3.61803399,  1.38196601]))\n"
     ]
    }
   ],
   "source": [
    "v = np.array([1, 2, 1, 1])\n",
    "A = np.array([[1, 2, 3], [0, 1, 0], [0, 2, 1]])\n",
    "\n",
    "print '* Determinant, trace, inverse, norm'\n",
    "print 'Determinant of matrix A: ', np.linalg.det(A)\n",
    "print 'Trace of matrix A:', np.trace(A)\n",
    "print 'Inverse of matrix A: ', np.linalg.inv(A)\n",
    "print 'Norm of vector v and of matrix A:', np.linalg.norm(v), np.linalg.norm(A)\n",
    "print '\\n'\n",
    "\n",
    "print '* Eigenvalues/Eigenvectors'\n",
    "print 'Eigenvalues and eigenvectors of matrix A:', np.linalg.eig(A)\n",
    "print '\\n'\n",
    "\n",
    "print '* Single Value Decomposition'\n",
    "print 'SVD of matrix A:', np.linalg.svd(A)\n",
    "print '\\n'\n",
    "\n",
    "A = np.array([[1, 2], [3, 1]])\n",
    "b = np.array([0, 1])\n",
    "print '* Linear systems'\n",
    "print 'Solving linear system Ax = b:', np.linalg.solve(A, b)\n",
    "print 'Least Square solution for Ax = b: ', np.linalg.lstsq(A, b) # TODO see return in docs"
   ]
  },
  {
   "cell_type": "markdown",
   "metadata": {},
   "source": [
    "#### Polynomials"
   ]
  },
  {
   "cell_type": "code",
   "execution_count": 11,
   "metadata": {
    "collapsed": false
   },
   "outputs": [
    {
     "name": "stdout",
     "output_type": "stream",
     "text": [
      "y = x^2 -2x + 1\n",
      "* Order of polynomial is  2\n",
      "* y(2) =  1\n",
      "* Roots of polynomial are  [ 1.  1.]\n"
     ]
    }
   ],
   "source": [
    "print 'y = x^2 -2x + 1'\n",
    "y = np.poly1d([1, -2, 1])\n",
    "print '* Order of polynomial is ', y.order\n",
    "print '* y(2) = ', y(2)\n",
    "print '* Roots of polynomial are ', y.roots"
   ]
  },
  {
   "cell_type": "markdown",
   "metadata": {},
   "source": [
    "#### Fit to points"
   ]
  },
  {
   "cell_type": "code",
   "execution_count": 14,
   "metadata": {
    "collapsed": false
   },
   "outputs": [
    {
     "data": {
      "image/png": "[encoded data removed]",
      "text/plain": [
       "<matplotlib.figure.Figure at 0x104db8710>"
      ]
     },
     "metadata": {},
     "output_type": "display_data"
    }
   ],
   "source": [
    "# Setting x's to be 50 linearly spaced points in [0, 1]\n",
    "x = np.linspace(0, 1, num=20)\n",
    "\n",
    "# Setting y to be a noised cosine \n",
    "y = np.cos(x) + 0.3*np.random.rand(20)\n",
    "\n",
    "# Fitting points (x, y) to a polynomial of deg 3\n",
    "fit_coeff = np.polyfit(x, y, 3)\n",
    "\n",
    "# Build the polynomial with the fitting coefficients\n",
    "p = np.poly1d(fit_coeff)\n",
    "\n",
    "# Considering another interval of x's and plotting original points and fitting curve\n",
    "x2 = np.linspace(0, 1, 200)\n",
    "plt.plot(x, y, 'o', x2, p(x2), '-') \n",
    "plt.show()"
   ]
  },
  {
   "cell_type": "markdown",
   "metadata": {},
   "source": [
    "## Pandas"
   ]
  },
  {
   "cell_type": "markdown",
   "metadata": {},
   "source": [
    "#### Creating a DataFrame"
   ]
  },
  {
   "cell_type": "code",
   "execution_count": 19,
   "metadata": {
    "collapsed": false
   },
   "outputs": [
    {
     "data": {
      "text/html": [
       "<div>\n",
       "<table border=\"1\" class=\"dataframe\">\n",
       "  <thead>\n",
       "    <tr style=\"text-align: right;\">\n",
       "      <th></th>\n",
       "      <th>col_A</th>\n",
       "      <th>id</th>\n",
       "      <th>name</th>\n",
       "    </tr>\n",
       "  </thead>\n",
       "  <tbody>\n",
       "    <tr>\n",
       "      <th>0</th>\n",
       "      <td>4</td>\n",
       "      <td>1</td>\n",
       "      <td>n1</td>\n",
       "    </tr>\n",
       "    <tr>\n",
       "      <th>1</th>\n",
       "      <td>39</td>\n",
       "      <td>2</td>\n",
       "      <td>n1</td>\n",
       "    </tr>\n",
       "    <tr>\n",
       "      <th>2</th>\n",
       "      <td>49</td>\n",
       "      <td>3</td>\n",
       "      <td>n2</td>\n",
       "    </tr>\n",
       "    <tr>\n",
       "      <th>3</th>\n",
       "      <td>1</td>\n",
       "      <td>4</td>\n",
       "      <td>n2</td>\n",
       "    </tr>\n",
       "    <tr>\n",
       "      <th>4</th>\n",
       "      <td>0</td>\n",
       "      <td>5</td>\n",
       "      <td>n2</td>\n",
       "    </tr>\n",
       "  </tbody>\n",
       "</table>\n",
       "</div>"
      ],
      "text/plain": [
       "   col_A id name\n",
       "0      4  1   n1\n",
       "1     39  2   n1\n",
       "2     49  3   n2\n",
       "3      1  4   n2\n",
       "4      0  5   n2"
      ]
     },
     "execution_count": 19,
     "metadata": {},
     "output_type": "execute_result"
    }
   ],
   "source": [
    "# Create DataFrame from a dict\n",
    "d = {'name': ['n1', 'n1', 'n2', 'n2', 'n2'], 'id': ['1','2','3','4','5'], 'col_A': [4, 39, 49, 1,0]}\n",
    "df = pd.DataFrame(d)\n",
    "\n",
    "# create DF from list of dicts\n",
    "dicts_list = [{'a': 1, 'b': 'bla'}, {'a': 2, 'b': 'blabla'}]\n",
    "df = pd.DataFrame(dicts_list)\n",
    "\n",
    "# Create DF from a list\n",
    "df = pd.DataFrame([1, 2, 3])\n",
    "\n",
    "df"
   ]
  },
  {
   "cell_type": "markdown",
   "metadata": {},
   "source": [
    "#### Describe DataFrame and some basics"
   ]
  },
  {
   "cell_type": "code",
   "execution_count": 21,
   "metadata": {
    "collapsed": false
   },
   "outputs": [
    {
     "data": {
      "text/html": [
       "<div>\n",
       "<table border=\"1\" class=\"dataframe\">\n",
       "  <thead>\n",
       "    <tr style=\"text-align: right;\">\n",
       "      <th></th>\n",
       "      <th>age</th>\n",
       "      <th>height</th>\n",
       "      <th>is_good</th>\n",
       "      <th>name</th>\n",
       "      <th>score</th>\n",
       "    </tr>\n",
       "  </thead>\n",
       "  <tbody>\n",
       "    <tr>\n",
       "      <th>0</th>\n",
       "      <td>25</td>\n",
       "      <td>1.71</td>\n",
       "      <td>False</td>\n",
       "      <td>Alice</td>\n",
       "      <td>0.3</td>\n",
       "    </tr>\n",
       "    <tr>\n",
       "      <th>1</th>\n",
       "      <td>29</td>\n",
       "      <td>1.60</td>\n",
       "      <td>False</td>\n",
       "      <td>Barbara</td>\n",
       "      <td>0.5</td>\n",
       "    </tr>\n",
       "    <tr>\n",
       "      <th>2</th>\n",
       "      <td>29</td>\n",
       "      <td>1.52</td>\n",
       "      <td>True</td>\n",
       "      <td>Martina</td>\n",
       "      <td>0.7</td>\n",
       "    </tr>\n",
       "    <tr>\n",
       "      <th>3</th>\n",
       "      <td>45</td>\n",
       "      <td>1.52</td>\n",
       "      <td>False</td>\n",
       "      <td>Paula</td>\n",
       "      <td>0.1</td>\n",
       "    </tr>\n",
       "    <tr>\n",
       "      <th>4</th>\n",
       "      <td>29</td>\n",
       "      <td>1.52</td>\n",
       "      <td>True</td>\n",
       "      <td>Kimberly</td>\n",
       "      <td>0.6</td>\n",
       "    </tr>\n",
       "  </tbody>\n",
       "</table>\n",
       "</div>"
      ],
      "text/plain": [
       "   age  height is_good      name  score\n",
       "0   25    1.71   False     Alice    0.3\n",
       "1   29    1.60   False   Barbara    0.5\n",
       "2   29    1.52    True   Martina    0.7\n",
       "3   45    1.52   False     Paula    0.1\n",
       "4   29    1.52    True  Kimberly    0.6"
      ]
     },
     "execution_count": 21,
     "metadata": {},
     "output_type": "execute_result"
    }
   ],
   "source": [
    "# Create one DF to start off with\n",
    "df = pd.DataFrame(\n",
    "    {'name': ['Alice', 'Barbara', 'Martina', 'Paula', 'Kimberly'],\n",
    "     'age': [25, 29, 29, 45, 29], \n",
    "     'is_good': [False, False, True, False, True], \n",
    "     'score': [0.3, 0.5, 0.7, 0.1, 0.6], \n",
    "     'height': [1.71, 1.60, 1.52, 1.52, 1.52]\n",
    "    })\n",
    "df"
   ]
  },
  {
   "cell_type": "code",
   "execution_count": 22,
   "metadata": {
    "collapsed": false
   },
   "outputs": [
    {
     "data": {
      "text/html": [
       "<div>\n",
       "<table border=\"1\" class=\"dataframe\">\n",
       "  <thead>\n",
       "    <tr style=\"text-align: right;\">\n",
       "      <th></th>\n",
       "      <th>age</th>\n",
       "      <th>height</th>\n",
       "      <th>score</th>\n",
       "    </tr>\n",
       "  </thead>\n",
       "  <tbody>\n",
       "    <tr>\n",
       "      <th>count</th>\n",
       "      <td>5.000000</td>\n",
       "      <td>5.000000</td>\n",
       "      <td>5.000000</td>\n",
       "    </tr>\n",
       "    <tr>\n",
       "      <th>mean</th>\n",
       "      <td>31.400000</td>\n",
       "      <td>1.574000</td>\n",
       "      <td>0.440000</td>\n",
       "    </tr>\n",
       "    <tr>\n",
       "      <th>std</th>\n",
       "      <td>7.797435</td>\n",
       "      <td>0.083546</td>\n",
       "      <td>0.240832</td>\n",
       "    </tr>\n",
       "    <tr>\n",
       "      <th>min</th>\n",
       "      <td>25.000000</td>\n",
       "      <td>1.520000</td>\n",
       "      <td>0.100000</td>\n",
       "    </tr>\n",
       "    <tr>\n",
       "      <th>25%</th>\n",
       "      <td>29.000000</td>\n",
       "      <td>1.520000</td>\n",
       "      <td>0.300000</td>\n",
       "    </tr>\n",
       "    <tr>\n",
       "      <th>50%</th>\n",
       "      <td>29.000000</td>\n",
       "      <td>1.520000</td>\n",
       "      <td>0.500000</td>\n",
       "    </tr>\n",
       "    <tr>\n",
       "      <th>75%</th>\n",
       "      <td>29.000000</td>\n",
       "      <td>1.600000</td>\n",
       "      <td>0.600000</td>\n",
       "    </tr>\n",
       "    <tr>\n",
       "      <th>max</th>\n",
       "      <td>45.000000</td>\n",
       "      <td>1.710000</td>\n",
       "      <td>0.700000</td>\n",
       "    </tr>\n",
       "  </tbody>\n",
       "</table>\n",
       "</div>"
      ],
      "text/plain": [
       "             age    height     score\n",
       "count   5.000000  5.000000  5.000000\n",
       "mean   31.400000  1.574000  0.440000\n",
       "std     7.797435  0.083546  0.240832\n",
       "min    25.000000  1.520000  0.100000\n",
       "25%    29.000000  1.520000  0.300000\n",
       "50%    29.000000  1.520000  0.500000\n",
       "75%    29.000000  1.600000  0.600000\n",
       "max    45.000000  1.710000  0.700000"
      ]
     },
     "execution_count": 22,
     "metadata": {},
     "output_type": "execute_result"
    }
   ],
   "source": [
    "df.describe()"
   ]
  },
  {
   "cell_type": "code",
   "execution_count": 29,
   "metadata": {
    "collapsed": false
   },
   "outputs": [
    {
     "data": {
      "text/html": [
       "<div>\n",
       "<table border=\"1\" class=\"dataframe\">\n",
       "  <thead>\n",
       "    <tr style=\"text-align: right;\">\n",
       "      <th></th>\n",
       "      <th>age</th>\n",
       "      <th>height</th>\n",
       "      <th>is_good</th>\n",
       "      <th>score</th>\n",
       "    </tr>\n",
       "  </thead>\n",
       "  <tbody>\n",
       "    <tr>\n",
       "      <th>age</th>\n",
       "      <td>1.000000</td>\n",
       "      <td>-0.540335</td>\n",
       "      <td>-0.280976</td>\n",
       "      <td>-0.649672</td>\n",
       "    </tr>\n",
       "    <tr>\n",
       "      <th>height</th>\n",
       "      <td>-0.540335</td>\n",
       "      <td>1.000000</td>\n",
       "      <td>-0.590032</td>\n",
       "      <td>-0.270866</td>\n",
       "    </tr>\n",
       "    <tr>\n",
       "      <th>is_good</th>\n",
       "      <td>-0.280976</td>\n",
       "      <td>-0.590032</td>\n",
       "      <td>1.000000</td>\n",
       "      <td>0.796003</td>\n",
       "    </tr>\n",
       "    <tr>\n",
       "      <th>score</th>\n",
       "      <td>-0.649672</td>\n",
       "      <td>-0.270866</td>\n",
       "      <td>0.796003</td>\n",
       "      <td>1.000000</td>\n",
       "    </tr>\n",
       "  </tbody>\n",
       "</table>\n",
       "</div>"
      ],
      "text/plain": [
       "              age    height   is_good     score\n",
       "age      1.000000 -0.540335 -0.280976 -0.649672\n",
       "height  -0.540335  1.000000 -0.590032 -0.270866\n",
       "is_good -0.280976 -0.590032  1.000000  0.796003\n",
       "score   -0.649672 -0.270866  0.796003  1.000000"
      ]
     },
     "execution_count": 29,
     "metadata": {},
     "output_type": "execute_result"
    }
   ],
   "source": [
    "df.corr()"
   ]
  },
  {
   "cell_type": "markdown",
   "metadata": {},
   "source": [
    "#### SQL-like queries"
   ]
  },
  {
   "cell_type": "code",
   "execution_count": 23,
   "metadata": {
    "collapsed": false
   },
   "outputs": [
    {
     "data": {
      "text/html": [
       "<div>\n",
       "<table border=\"1\" class=\"dataframe\">\n",
       "  <thead>\n",
       "    <tr style=\"text-align: right;\">\n",
       "      <th></th>\n",
       "      <th>name</th>\n",
       "      <th>age</th>\n",
       "    </tr>\n",
       "  </thead>\n",
       "  <tbody>\n",
       "    <tr>\n",
       "      <th>0</th>\n",
       "      <td>Alice</td>\n",
       "      <td>25</td>\n",
       "    </tr>\n",
       "    <tr>\n",
       "      <th>1</th>\n",
       "      <td>Barbara</td>\n",
       "      <td>29</td>\n",
       "    </tr>\n",
       "    <tr>\n",
       "      <th>2</th>\n",
       "      <td>Martina</td>\n",
       "      <td>29</td>\n",
       "    </tr>\n",
       "    <tr>\n",
       "      <th>3</th>\n",
       "      <td>Paula</td>\n",
       "      <td>45</td>\n",
       "    </tr>\n",
       "    <tr>\n",
       "      <th>4</th>\n",
       "      <td>Kimberly</td>\n",
       "      <td>29</td>\n",
       "    </tr>\n",
       "  </tbody>\n",
       "</table>\n",
       "</div>"
      ],
      "text/plain": [
       "       name  age\n",
       "0     Alice   25\n",
       "1   Barbara   29\n",
       "2   Martina   29\n",
       "3     Paula   45\n",
       "4  Kimberly   29"
      ]
     },
     "execution_count": 23,
     "metadata": {},
     "output_type": "execute_result"
    }
   ],
   "source": [
    "# SELECT \n",
    "\n",
    "# Select one column (this gives a Series object)\n",
    "df.name\n",
    "# or (same) df['name']\n",
    "\n",
    "# Select two columns (this gives a DataFrame object)\n",
    "df[['name', 'age']]"
   ]
  },
  {
   "cell_type": "code",
   "execution_count": 24,
   "metadata": {
    "collapsed": false
   },
   "outputs": [
    {
     "data": {
      "text/html": [
       "<div>\n",
       "<table border=\"1\" class=\"dataframe\">\n",
       "  <thead>\n",
       "    <tr style=\"text-align: right;\">\n",
       "      <th></th>\n",
       "      <th>age</th>\n",
       "      <th>height</th>\n",
       "      <th>is_good</th>\n",
       "      <th>name</th>\n",
       "      <th>score</th>\n",
       "    </tr>\n",
       "  </thead>\n",
       "  <tbody>\n",
       "    <tr>\n",
       "      <th>2</th>\n",
       "      <td>29</td>\n",
       "      <td>1.52</td>\n",
       "      <td>True</td>\n",
       "      <td>Martina</td>\n",
       "      <td>0.7</td>\n",
       "    </tr>\n",
       "  </tbody>\n",
       "</table>\n",
       "</div>"
      ],
      "text/plain": [
       "   age  height is_good     name  score\n",
       "2   29    1.52    True  Martina    0.7"
      ]
     },
     "execution_count": 24,
     "metadata": {},
     "output_type": "execute_result"
    }
   ],
   "source": [
    "# WHERE \n",
    "\n",
    "# on one column\n",
    "df[df.age == 29]\n",
    "\n",
    "# on two columns\n",
    "df[(df.age == 29) & (df.name == 'Martina')]"
   ]
  },
  {
   "cell_type": "code",
   "execution_count": 25,
   "metadata": {
    "collapsed": false
   },
   "outputs": [
    {
     "data": {
      "text/html": [
       "<div>\n",
       "<table border=\"1\" class=\"dataframe\">\n",
       "  <thead>\n",
       "    <tr style=\"text-align: right;\">\n",
       "      <th></th>\n",
       "      <th>age</th>\n",
       "      <th>height</th>\n",
       "      <th>is_good</th>\n",
       "      <th>name</th>\n",
       "      <th>score</th>\n",
       "    </tr>\n",
       "  </thead>\n",
       "  <tbody>\n",
       "    <tr>\n",
       "      <th>0</th>\n",
       "      <td>25</td>\n",
       "      <td>1.71</td>\n",
       "      <td>False</td>\n",
       "      <td>Alice</td>\n",
       "      <td>0.3</td>\n",
       "    </tr>\n",
       "    <tr>\n",
       "      <th>4</th>\n",
       "      <td>29</td>\n",
       "      <td>1.52</td>\n",
       "      <td>True</td>\n",
       "      <td>Kimberly</td>\n",
       "      <td>0.6</td>\n",
       "    </tr>\n",
       "  </tbody>\n",
       "</table>\n",
       "</div>"
      ],
      "text/plain": [
       "   age  height is_good      name  score\n",
       "0   25    1.71   False     Alice    0.3\n",
       "4   29    1.52    True  Kimberly    0.6"
      ]
     },
     "execution_count": 25,
     "metadata": {},
     "output_type": "execute_result"
    }
   ],
   "source": [
    "# LIKE and NOT LIKE \n",
    "\n",
    "df[df['name'].str.contains('a')]\n",
    "df[~df['name'].str.contains('a')]            # (for negation)"
   ]
  },
  {
   "cell_type": "code",
   "execution_count": 26,
   "metadata": {
    "collapsed": false
   },
   "outputs": [
    {
     "data": {
      "text/html": [
       "<div>\n",
       "<table border=\"1\" class=\"dataframe\">\n",
       "  <thead>\n",
       "    <tr style=\"text-align: right;\">\n",
       "      <th></th>\n",
       "      <th></th>\n",
       "      <th>is_good</th>\n",
       "      <th>score</th>\n",
       "    </tr>\n",
       "    <tr>\n",
       "      <th>age</th>\n",
       "      <th>height</th>\n",
       "      <th></th>\n",
       "      <th></th>\n",
       "    </tr>\n",
       "  </thead>\n",
       "  <tbody>\n",
       "    <tr>\n",
       "      <th>25</th>\n",
       "      <th>1.71</th>\n",
       "      <td>0.0</td>\n",
       "      <td>0.3</td>\n",
       "    </tr>\n",
       "    <tr>\n",
       "      <th rowspan=\"2\" valign=\"top\">29</th>\n",
       "      <th>1.52</th>\n",
       "      <td>2.0</td>\n",
       "      <td>1.3</td>\n",
       "    </tr>\n",
       "    <tr>\n",
       "      <th>1.60</th>\n",
       "      <td>0.0</td>\n",
       "      <td>0.5</td>\n",
       "    </tr>\n",
       "    <tr>\n",
       "      <th>45</th>\n",
       "      <th>1.52</th>\n",
       "      <td>0.0</td>\n",
       "      <td>0.1</td>\n",
       "    </tr>\n",
       "  </tbody>\n",
       "</table>\n",
       "</div>"
      ],
      "text/plain": [
       "            is_good  score\n",
       "age height                \n",
       "25  1.71        0.0    0.3\n",
       "29  1.52        2.0    1.3\n",
       "    1.60        0.0    0.5\n",
       "45  1.52        0.0    0.1"
      ]
     },
     "execution_count": 26,
     "metadata": {},
     "output_type": "execute_result"
    }
   ],
   "source": [
    "# GROUPBY\n",
    "\n",
    "# Grouping on one col\n",
    "df.groupby('age').sum()             # getting some for the other columns\n",
    "df.groupby('age').count()           # getting counts of values for the other columns (excludes null values)\n",
    "df.groupby('age').size()            # getting num of items per grouped value\n",
    "df.groupby('age')['score'].count()  # count to a single column\n",
    "df.groupby('age') \\\n",
    "    .agg(\n",
    "        {'is_good': np.max, \n",
    "         'score': np.mean})         # agg allows to run different aggregating functions on each col\n",
    "    \n",
    "# Grouping on more cols\n",
    "df.groupby(['age', 'height']).sum()"
   ]
  },
  {
   "cell_type": "markdown",
   "metadata": {},
   "source": [
    "#### Plotting values"
   ]
  },
  {
   "cell_type": "code",
   "execution_count": 28,
   "metadata": {
    "collapsed": false
   },
   "outputs": [
    {
     "data": {
      "text/plain": [
       "<matplotlib.axes._subplots.AxesSubplot at 0x1080fb150>"
      ]
     },
     "execution_count": 28,
     "metadata": {},
     "output_type": "execute_result"
    },
    {
     "data": {
      "image/png": "[encoded data removed]",
      "text/plain": [
       "<matplotlib.figure.Figure at 0x104db86d0>"
      ]
     },
     "metadata": {},
     "output_type": "display_data"
    }
   ],
   "source": [
    "df.plot('name', 'height')"
   ]
  },
  {
   "cell_type": "code",
   "execution_count": null,
   "metadata": {
    "collapsed": true
   },
   "outputs": [],
   "source": []
  }
 ],
 "metadata": {
  "kernelspec": {
   "display_name": "Python 2",
   "language": "python",
   "name": "python2"
  },
  "language_info": {
   "codemirror_mode": {
    "name": "ipython",
    "version": 2
   },
   "file_extension": ".py",
   "mimetype": "text/x-python",
   "name": "python",
   "nbconvert_exporter": "python",
   "pygments_lexer": "ipython2",
   "version": "2.7.10"
  }
 },
 "nbformat": 4,
 "nbformat_minor": 0
}
